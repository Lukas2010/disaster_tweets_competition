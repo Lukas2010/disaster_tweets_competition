{
 "cells": [
  {
   "cell_type": "code",
   "execution_count": 1,
   "id": "1413050f",
   "metadata": {
    "_cell_guid": "b1076dfc-b9ad-4769-8c92-a6c4dae69d19",
    "_uuid": "8f2839f25d086af736a60e9eeb907d3b93b6e0e5",
    "execution": {
     "iopub.execute_input": "2025-07-13T06:20:07.533191Z",
     "iopub.status.busy": "2025-07-13T06:20:07.532551Z",
     "iopub.status.idle": "2025-07-13T06:20:09.178020Z",
     "shell.execute_reply": "2025-07-13T06:20:09.177100Z"
    },
    "papermill": {
     "duration": 1.654237,
     "end_time": "2025-07-13T06:20:09.179403",
     "exception": false,
     "start_time": "2025-07-13T06:20:07.525166",
     "status": "completed"
    },
    "tags": []
   },
   "outputs": [
    {
     "name": "stdout",
     "output_type": "stream",
     "text": [
      "/kaggle/input/glove6b100dtxt/glove.6B.100d.txt\n",
      "/kaggle/input/nlp-getting-started/sample_submission.csv\n",
      "/kaggle/input/nlp-getting-started/train.csv\n",
      "/kaggle/input/nlp-getting-started/test.csv\n"
     ]
    }
   ],
   "source": [
    "# This Python 3 environment comes with many helpful analytics libraries installed\n",
    "# It is defined by the kaggle/python Docker image: https://github.com/kaggle/docker-python\n",
    "# For example, here's several helpful packages to load\n",
    "\n",
    "import numpy as np # linear algebra\n",
    "import pandas as pd # data processing, CSV file I/O (e.g. pd.read_csv)\n",
    "\n",
    "# Input data files are available in the read-only \"../input/\" directory\n",
    "# For example, running this (by clicking run or pressing Shift+Enter) will list all files under the input directory\n",
    "\n",
    "import os\n",
    "for dirname, _, filenames in os.walk('/kaggle/input'):\n",
    "    for filename in filenames:\n",
    "        print(os.path.join(dirname, filename))\n",
    "\n",
    "# You can write up to 20GB to the current directory (/kaggle/working/) that gets preserved as output when you create a version using \"Save & Run All\" \n",
    "# You can also write temporary files to /kaggle/temp/, but they won't be saved outside of the current session"
   ]
  },
  {
   "cell_type": "markdown",
   "id": "d9e09cb5",
   "metadata": {
    "papermill": {
     "duration": 0.005071,
     "end_time": "2025-07-13T06:20:09.190352",
     "exception": false,
     "start_time": "2025-07-13T06:20:09.185281",
     "status": "completed"
    },
    "tags": []
   },
   "source": [
    "# Import the files"
   ]
  },
  {
   "cell_type": "code",
   "execution_count": 2,
   "id": "2558f4c5",
   "metadata": {
    "execution": {
     "iopub.execute_input": "2025-07-13T06:20:09.202071Z",
     "iopub.status.busy": "2025-07-13T06:20:09.201721Z",
     "iopub.status.idle": "2025-07-13T06:20:26.160955Z",
     "shell.execute_reply": "2025-07-13T06:20:26.160134Z"
    },
    "papermill": {
     "duration": 16.966772,
     "end_time": "2025-07-13T06:20:26.162436",
     "exception": false,
     "start_time": "2025-07-13T06:20:09.195664",
     "status": "completed"
    },
    "tags": []
   },
   "outputs": [
    {
     "name": "stderr",
     "output_type": "stream",
     "text": [
      "2025-07-13 06:20:11.487563: E external/local_xla/xla/stream_executor/cuda/cuda_fft.cc:477] Unable to register cuFFT factory: Attempting to register factory for plugin cuFFT when one has already been registered\n",
      "WARNING: All log messages before absl::InitializeLog() is called are written to STDERR\n",
      "E0000 00:00:1752387611.735977      19 cuda_dnn.cc:8310] Unable to register cuDNN factory: Attempting to register factory for plugin cuDNN when one has already been registered\n",
      "E0000 00:00:1752387611.816309      19 cuda_blas.cc:1418] Unable to register cuBLAS factory: Attempting to register factory for plugin cuBLAS when one has already been registered\n"
     ]
    }
   ],
   "source": [
    "import keras\n",
    "from nltk.stem.porter import PorterStemmer\n",
    "import re\n",
    "import string\n",
    "from nltk.tokenize import word_tokenize\n",
    "from tensorflow.keras.preprocessing.sequence import pad_sequences\n",
    "from sklearn.model_selection import train_test_split\n",
    "from tensorflow.keras.preprocessing.text import Tokenizer\n",
    "import pickle\n",
    "from tqdm import tqdm\n",
    "import tensorflow as tf"
   ]
  },
  {
   "cell_type": "code",
   "execution_count": 3,
   "id": "ca0be4cd",
   "metadata": {
    "execution": {
     "iopub.execute_input": "2025-07-13T06:20:26.175544Z",
     "iopub.status.busy": "2025-07-13T06:20:26.174711Z",
     "iopub.status.idle": "2025-07-13T06:20:26.233065Z",
     "shell.execute_reply": "2025-07-13T06:20:26.232453Z"
    },
    "papermill": {
     "duration": 0.065486,
     "end_time": "2025-07-13T06:20:26.234319",
     "exception": false,
     "start_time": "2025-07-13T06:20:26.168833",
     "status": "completed"
    },
    "tags": []
   },
   "outputs": [],
   "source": [
    "train_data = pd.read_csv(\"/kaggle/input/nlp-getting-started/train.csv\")\n",
    "test_data = pd.read_csv(\"/kaggle/input/nlp-getting-started/test.csv\")"
   ]
  },
  {
   "cell_type": "code",
   "execution_count": 4,
   "id": "1b005ed3",
   "metadata": {
    "execution": {
     "iopub.execute_input": "2025-07-13T06:20:26.246166Z",
     "iopub.status.busy": "2025-07-13T06:20:26.245629Z",
     "iopub.status.idle": "2025-07-13T06:20:26.265661Z",
     "shell.execute_reply": "2025-07-13T06:20:26.265079Z"
    },
    "papermill": {
     "duration": 0.02707,
     "end_time": "2025-07-13T06:20:26.266868",
     "exception": false,
     "start_time": "2025-07-13T06:20:26.239798",
     "status": "completed"
    },
    "tags": []
   },
   "outputs": [
    {
     "data": {
      "text/html": [
       "<div>\n",
       "<style scoped>\n",
       "    .dataframe tbody tr th:only-of-type {\n",
       "        vertical-align: middle;\n",
       "    }\n",
       "\n",
       "    .dataframe tbody tr th {\n",
       "        vertical-align: top;\n",
       "    }\n",
       "\n",
       "    .dataframe thead th {\n",
       "        text-align: right;\n",
       "    }\n",
       "</style>\n",
       "<table border=\"1\" class=\"dataframe\">\n",
       "  <thead>\n",
       "    <tr style=\"text-align: right;\">\n",
       "      <th></th>\n",
       "      <th>id</th>\n",
       "      <th>keyword</th>\n",
       "      <th>location</th>\n",
       "      <th>text</th>\n",
       "    </tr>\n",
       "  </thead>\n",
       "  <tbody>\n",
       "    <tr>\n",
       "      <th>0</th>\n",
       "      <td>0</td>\n",
       "      <td>NaN</td>\n",
       "      <td>NaN</td>\n",
       "      <td>Just happened a terrible car crash</td>\n",
       "    </tr>\n",
       "    <tr>\n",
       "      <th>1</th>\n",
       "      <td>2</td>\n",
       "      <td>NaN</td>\n",
       "      <td>NaN</td>\n",
       "      <td>Heard about #earthquake is different cities, s...</td>\n",
       "    </tr>\n",
       "    <tr>\n",
       "      <th>2</th>\n",
       "      <td>3</td>\n",
       "      <td>NaN</td>\n",
       "      <td>NaN</td>\n",
       "      <td>there is a forest fire at spot pond, geese are...</td>\n",
       "    </tr>\n",
       "    <tr>\n",
       "      <th>3</th>\n",
       "      <td>9</td>\n",
       "      <td>NaN</td>\n",
       "      <td>NaN</td>\n",
       "      <td>Apocalypse lighting. #Spokane #wildfires</td>\n",
       "    </tr>\n",
       "    <tr>\n",
       "      <th>4</th>\n",
       "      <td>11</td>\n",
       "      <td>NaN</td>\n",
       "      <td>NaN</td>\n",
       "      <td>Typhoon Soudelor kills 28 in China and Taiwan</td>\n",
       "    </tr>\n",
       "  </tbody>\n",
       "</table>\n",
       "</div>"
      ],
      "text/plain": [
       "   id keyword location                                               text\n",
       "0   0     NaN      NaN                 Just happened a terrible car crash\n",
       "1   2     NaN      NaN  Heard about #earthquake is different cities, s...\n",
       "2   3     NaN      NaN  there is a forest fire at spot pond, geese are...\n",
       "3   9     NaN      NaN           Apocalypse lighting. #Spokane #wildfires\n",
       "4  11     NaN      NaN      Typhoon Soudelor kills 28 in China and Taiwan"
      ]
     },
     "execution_count": 4,
     "metadata": {},
     "output_type": "execute_result"
    }
   ],
   "source": [
    "test_data.head()"
   ]
  },
  {
   "cell_type": "code",
   "execution_count": 5,
   "id": "f824d004",
   "metadata": {
    "execution": {
     "iopub.execute_input": "2025-07-13T06:20:26.278769Z",
     "iopub.status.busy": "2025-07-13T06:20:26.278528Z",
     "iopub.status.idle": "2025-07-13T06:20:26.284276Z",
     "shell.execute_reply": "2025-07-13T06:20:26.283509Z"
    },
    "papermill": {
     "duration": 0.012842,
     "end_time": "2025-07-13T06:20:26.285360",
     "exception": false,
     "start_time": "2025-07-13T06:20:26.272518",
     "status": "completed"
    },
    "tags": []
   },
   "outputs": [
    {
     "name": "stdout",
     "output_type": "stream",
     "text": [
      "   id keyword location                                               text  \\\n",
      "0   1     NaN      NaN  Our Deeds are the Reason of this #earthquake M...   \n",
      "1   4     NaN      NaN             Forest fire near La Ronge Sask. Canada   \n",
      "2   5     NaN      NaN  All residents asked to 'shelter in place' are ...   \n",
      "3   6     NaN      NaN  13,000 people receive #wildfires evacuation or...   \n",
      "4   7     NaN      NaN  Just got sent this photo from Ruby #Alaska as ...   \n",
      "\n",
      "   target  \n",
      "0       1  \n",
      "1       1  \n",
      "2       1  \n",
      "3       1  \n",
      "4       1  \n",
      "length od data is:  7613\n"
     ]
    }
   ],
   "source": [
    "print(train_data.head())\n",
    "print(\"length od data is: \", len(train_data))"
   ]
  },
  {
   "cell_type": "markdown",
   "id": "a9099257",
   "metadata": {
    "papermill": {
     "duration": 0.005148,
     "end_time": "2025-07-13T06:20:26.296088",
     "exception": false,
     "start_time": "2025-07-13T06:20:26.290940",
     "status": "completed"
    },
    "tags": []
   },
   "source": [
    "Lets drop the keyword and location columns"
   ]
  },
  {
   "cell_type": "code",
   "execution_count": 6,
   "id": "473c0abf",
   "metadata": {
    "execution": {
     "iopub.execute_input": "2025-07-13T06:20:26.307439Z",
     "iopub.status.busy": "2025-07-13T06:20:26.307212Z",
     "iopub.status.idle": "2025-07-13T06:20:26.323628Z",
     "shell.execute_reply": "2025-07-13T06:20:26.322610Z"
    },
    "papermill": {
     "duration": 0.023613,
     "end_time": "2025-07-13T06:20:26.324880",
     "exception": false,
     "start_time": "2025-07-13T06:20:26.301267",
     "status": "completed"
    },
    "tags": []
   },
   "outputs": [
    {
     "name": "stdout",
     "output_type": "stream",
     "text": [
      "   id                                               text  target\n",
      "0   1  Our Deeds are the Reason of this #earthquake M...       1\n",
      "1   4             Forest fire near La Ronge Sask. Canada       1\n",
      "2   5  All residents asked to 'shelter in place' are ...       1\n",
      "3   6  13,000 people receive #wildfires evacuation or...       1\n",
      "4   7  Just got sent this photo from Ruby #Alaska as ...       1\n"
     ]
    }
   ],
   "source": [
    "train_data.drop(columns = [\"keyword\", \"location\"], inplace = True)\n",
    "print(train_data.head())"
   ]
  },
  {
   "cell_type": "code",
   "execution_count": 7,
   "id": "a7f87256",
   "metadata": {
    "execution": {
     "iopub.execute_input": "2025-07-13T06:20:26.337003Z",
     "iopub.status.busy": "2025-07-13T06:20:26.336778Z",
     "iopub.status.idle": "2025-07-13T06:20:26.345719Z",
     "shell.execute_reply": "2025-07-13T06:20:26.345008Z"
    },
    "papermill": {
     "duration": 0.01607,
     "end_time": "2025-07-13T06:20:26.346876",
     "exception": false,
     "start_time": "2025-07-13T06:20:26.330806",
     "status": "completed"
    },
    "tags": []
   },
   "outputs": [
    {
     "name": "stdout",
     "output_type": "stream",
     "text": [
      "Unique text entries:  7503\n",
      "Sum of text entries:  7613\n"
     ]
    }
   ],
   "source": [
    "print(\"Unique text entries: \", train_data[\"text\"].nunique())\n",
    "print(\"Sum of text entries: \", len(train_data[\"text\"]))"
   ]
  },
  {
   "cell_type": "code",
   "execution_count": 8,
   "id": "f8b40adf",
   "metadata": {
    "execution": {
     "iopub.execute_input": "2025-07-13T06:20:26.358446Z",
     "iopub.status.busy": "2025-07-13T06:20:26.358229Z",
     "iopub.status.idle": "2025-07-13T06:20:26.366749Z",
     "shell.execute_reply": "2025-07-13T06:20:26.366157Z"
    },
    "papermill": {
     "duration": 0.015444,
     "end_time": "2025-07-13T06:20:26.367739",
     "exception": false,
     "start_time": "2025-07-13T06:20:26.352295",
     "status": "completed"
    },
    "tags": []
   },
   "outputs": [
    {
     "name": "stdout",
     "output_type": "stream",
     "text": [
      "Sum of text entries:  7503\n"
     ]
    }
   ],
   "source": [
    "# remove duplicate entries\n",
    "train_data = train_data.drop_duplicates(subset = [\"text\"])\n",
    "print(\"Sum of text entries: \", len(train_data[\"text\"]))"
   ]
  },
  {
   "cell_type": "markdown",
   "id": "ba552dd9",
   "metadata": {
    "papermill": {
     "duration": 0.005237,
     "end_time": "2025-07-13T06:20:26.378306",
     "exception": false,
     "start_time": "2025-07-13T06:20:26.373069",
     "status": "completed"
    },
    "tags": []
   },
   "source": [
    "Apply preprocessing to the textdata"
   ]
  },
  {
   "cell_type": "markdown",
   "id": "a94ab2fe",
   "metadata": {
    "execution": {
     "iopub.execute_input": "2025-07-12T20:53:31.360290Z",
     "iopub.status.busy": "2025-07-12T20:53:31.359801Z",
     "iopub.status.idle": "2025-07-12T20:53:31.364841Z",
     "shell.execute_reply": "2025-07-12T20:53:31.364243Z",
     "shell.execute_reply.started": "2025-07-12T20:53:31.360273Z"
    },
    "papermill": {
     "duration": 0.005174,
     "end_time": "2025-07-13T06:20:26.388727",
     "exception": false,
     "start_time": "2025-07-13T06:20:26.383553",
     "status": "completed"
    },
    "tags": []
   },
   "source": [
    "#stemmer = PorterStemmer()\n",
    "\n",
    "def preprocessing(textfile):\n",
    "    return_file = list()\n",
    "    \n",
    "    for current_text in textfile:\n",
    "        # convert all letters to lower case (seems to be initially the case but make sure it actually is)\n",
    "        current_text = current_text.lower()\n",
    "        \n",
    "        # remove all numbers\n",
    "        current_text = re.sub(r'\\d+', '', current_text)\n",
    "        \n",
    "        # remove punctuation\n",
    "        #translator = str.maketrans('', '', string.punctuation)\n",
    "        #current_text.translate(translator)\n",
    "\n",
    "        #remove special characters\n",
    "        current_text = re.sub(r'[^a-zA-Z0-9]', ' ', current_text)\n",
    "\n",
    "        # remove links\n",
    "        current_text = re.sub('https?://\\S+|www\\.\\S+', '', current_text)\n",
    "        \n",
    "        # remove line changes\n",
    "        #current_text = re.sub('\\n', '', current_text)\n",
    "        \n",
    "        # remove whitespace\n",
    "        current_text = \" \".join(current_text.split())\n",
    "        \n",
    "        # Apply Porter Stemmer\n",
    "        #word_tokens = word_tokenize(current_text)\n",
    "        #current_text = [stemmer.stem(word) for word in word_tokens]\n",
    "\n",
    "        #current_text = \" \".join(current_text)\n",
    "        # current text is list item, change it to string, then return\n",
    "        return_file.append(\"\".join(current_text))\n",
    "    \n",
    "    df = pd.DataFrame({\"Text\": return_file})\n",
    "    return df"
   ]
  },
  {
   "cell_type": "markdown",
   "id": "5c0f838a",
   "metadata": {
    "execution": {
     "iopub.execute_input": "2025-07-12T20:56:41.091455Z",
     "iopub.status.busy": "2025-07-12T20:56:41.091220Z",
     "iopub.status.idle": "2025-07-12T20:56:41.238396Z",
     "shell.execute_reply": "2025-07-12T20:56:41.237606Z",
     "shell.execute_reply.started": "2025-07-12T20:56:41.091439Z"
    },
    "papermill": {
     "duration": 0.005285,
     "end_time": "2025-07-13T06:20:26.399333",
     "exception": false,
     "start_time": "2025-07-13T06:20:26.394048",
     "status": "completed"
    },
    "tags": []
   },
   "source": [
    "train_data.text = preprocessing(train_data.text)\n",
    "test_data.text = preprocessing(test_data.text)"
   ]
  },
  {
   "cell_type": "code",
   "execution_count": 9,
   "id": "d42cb677",
   "metadata": {
    "execution": {
     "iopub.execute_input": "2025-07-13T06:20:26.411182Z",
     "iopub.status.busy": "2025-07-13T06:20:26.410939Z",
     "iopub.status.idle": "2025-07-13T06:20:26.424196Z",
     "shell.execute_reply": "2025-07-13T06:20:26.423548Z"
    },
    "papermill": {
     "duration": 0.020484,
     "end_time": "2025-07-13T06:20:26.425199",
     "exception": false,
     "start_time": "2025-07-13T06:20:26.404715",
     "status": "completed"
    },
    "tags": []
   },
   "outputs": [
    {
     "name": "stdout",
     "output_type": "stream",
     "text": [
      "<class 'pandas.core.frame.DataFrame'>\n",
      "Index: 7503 entries, 0 to 7612\n",
      "Data columns (total 3 columns):\n",
      " #   Column  Non-Null Count  Dtype \n",
      "---  ------  --------------  ----- \n",
      " 0   id      7503 non-null   int64 \n",
      " 1   text    7503 non-null   object\n",
      " 2   target  7503 non-null   int64 \n",
      "dtypes: int64(2), object(1)\n",
      "memory usage: 234.5+ KB\n",
      "None\n"
     ]
    }
   ],
   "source": [
    "print(train_data.info())"
   ]
  },
  {
   "cell_type": "code",
   "execution_count": 10,
   "id": "b0432144",
   "metadata": {
    "execution": {
     "iopub.execute_input": "2025-07-13T06:20:26.436787Z",
     "iopub.status.busy": "2025-07-13T06:20:26.436540Z",
     "iopub.status.idle": "2025-07-13T06:20:26.441199Z",
     "shell.execute_reply": "2025-07-13T06:20:26.440722Z"
    },
    "papermill": {
     "duration": 0.011566,
     "end_time": "2025-07-13T06:20:26.442184",
     "exception": false,
     "start_time": "2025-07-13T06:20:26.430618",
     "status": "completed"
    },
    "tags": []
   },
   "outputs": [],
   "source": [
    "train_data.dropna(inplace=True)\n",
    "#test_data.dropna(inplace=True)"
   ]
  },
  {
   "cell_type": "code",
   "execution_count": 11,
   "id": "436d10ea",
   "metadata": {
    "execution": {
     "iopub.execute_input": "2025-07-13T06:20:26.454163Z",
     "iopub.status.busy": "2025-07-13T06:20:26.453951Z",
     "iopub.status.idle": "2025-07-13T06:20:26.462280Z",
     "shell.execute_reply": "2025-07-13T06:20:26.461583Z"
    },
    "papermill": {
     "duration": 0.015563,
     "end_time": "2025-07-13T06:20:26.463291",
     "exception": false,
     "start_time": "2025-07-13T06:20:26.447728",
     "status": "completed"
    },
    "tags": []
   },
   "outputs": [
    {
     "name": "stdout",
     "output_type": "stream",
     "text": [
      "<class 'pandas.core.frame.DataFrame'>\n",
      "Index: 7503 entries, 0 to 7612\n",
      "Data columns (total 3 columns):\n",
      " #   Column  Non-Null Count  Dtype \n",
      "---  ------  --------------  ----- \n",
      " 0   id      7503 non-null   int64 \n",
      " 1   text    7503 non-null   object\n",
      " 2   target  7503 non-null   int64 \n",
      "dtypes: int64(2), object(1)\n",
      "memory usage: 234.5+ KB\n"
     ]
    }
   ],
   "source": [
    "train_data.info()"
   ]
  },
  {
   "cell_type": "code",
   "execution_count": 12,
   "id": "7b78eeb8",
   "metadata": {
    "execution": {
     "iopub.execute_input": "2025-07-13T06:20:26.475069Z",
     "iopub.status.busy": "2025-07-13T06:20:26.474857Z",
     "iopub.status.idle": "2025-07-13T06:20:26.478380Z",
     "shell.execute_reply": "2025-07-13T06:20:26.477865Z"
    },
    "papermill": {
     "duration": 0.010521,
     "end_time": "2025-07-13T06:20:26.479322",
     "exception": false,
     "start_time": "2025-07-13T06:20:26.468801",
     "status": "completed"
    },
    "tags": []
   },
   "outputs": [],
   "source": [
    "# Remove emojis\n",
    "def remove_emoji(text):\n",
    "    emoji_pattern = re.compile(\"[\"\n",
    "                           u\"\\U0001F600-\\U0001F64F\"  # emoticons\n",
    "                           u\"\\U0001F300-\\U0001F5FF\"  # symbols & pictographs\n",
    "                           u\"\\U0001F680-\\U0001F6FF\"  # transport & map symbols\n",
    "                           u\"\\U0001F1E0-\\U0001F1FF\"  # flags (iOS)\n",
    "                           u\"\\U00002702-\\U000027B0\"\n",
    "                           u\"\\U000024C2-\\U0001F251\"\n",
    "                           \"]+\", flags=re.UNICODE)\n",
    "    return emoji_pattern.sub(r'', text)\n",
    "\n"
   ]
  },
  {
   "cell_type": "code",
   "execution_count": 13,
   "id": "db11c5a9",
   "metadata": {
    "execution": {
     "iopub.execute_input": "2025-07-13T06:20:26.491244Z",
     "iopub.status.busy": "2025-07-13T06:20:26.491016Z",
     "iopub.status.idle": "2025-07-13T06:20:26.532821Z",
     "shell.execute_reply": "2025-07-13T06:20:26.532303Z"
    },
    "papermill": {
     "duration": 0.049094,
     "end_time": "2025-07-13T06:20:26.533943",
     "exception": false,
     "start_time": "2025-07-13T06:20:26.484849",
     "status": "completed"
    },
    "tags": []
   },
   "outputs": [],
   "source": [
    "# Apply the emoji removal function\n",
    "train_data.text=train_data.text.apply(lambda x: remove_emoji(x))\n",
    "test_data.text=test_data.text.apply(lambda x: remove_emoji(x))"
   ]
  },
  {
   "cell_type": "code",
   "execution_count": 14,
   "id": "1a0f059e",
   "metadata": {
    "execution": {
     "iopub.execute_input": "2025-07-13T06:20:26.546244Z",
     "iopub.status.busy": "2025-07-13T06:20:26.546034Z",
     "iopub.status.idle": "2025-07-13T06:20:26.550132Z",
     "shell.execute_reply": "2025-07-13T06:20:26.549539Z"
    },
    "papermill": {
     "duration": 0.011481,
     "end_time": "2025-07-13T06:20:26.551117",
     "exception": false,
     "start_time": "2025-07-13T06:20:26.539636",
     "status": "completed"
    },
    "tags": []
   },
   "outputs": [
    {
     "name": "stdout",
     "output_type": "stream",
     "text": [
      "Our Deeds are the Reason of this #earthquake May ALLAH Forgive us all\n"
     ]
    }
   ],
   "source": [
    "print(train_data.text[0])"
   ]
  },
  {
   "cell_type": "code",
   "execution_count": 15,
   "id": "2a3110b0",
   "metadata": {
    "execution": {
     "iopub.execute_input": "2025-07-13T06:20:26.563229Z",
     "iopub.status.busy": "2025-07-13T06:20:26.563016Z",
     "iopub.status.idle": "2025-07-13T06:20:26.568152Z",
     "shell.execute_reply": "2025-07-13T06:20:26.567632Z"
    },
    "papermill": {
     "duration": 0.012266,
     "end_time": "2025-07-13T06:20:26.569140",
     "exception": false,
     "start_time": "2025-07-13T06:20:26.556874",
     "status": "completed"
    },
    "tags": []
   },
   "outputs": [],
   "source": [
    "# Splitting the data into 2/3 as train and 1/3 as test\n",
    "X_train, X_test, y_train, y_test = train_test_split(train_data['text'], train_data['target'], test_size=0.2)"
   ]
  },
  {
   "cell_type": "code",
   "execution_count": 16,
   "id": "7285fe58",
   "metadata": {
    "execution": {
     "iopub.execute_input": "2025-07-13T06:20:26.581175Z",
     "iopub.status.busy": "2025-07-13T06:20:26.580966Z",
     "iopub.status.idle": "2025-07-13T06:20:26.584655Z",
     "shell.execute_reply": "2025-07-13T06:20:26.583959Z"
    },
    "papermill": {
     "duration": 0.011061,
     "end_time": "2025-07-13T06:20:26.585824",
     "exception": false,
     "start_time": "2025-07-13T06:20:26.574763",
     "status": "completed"
    },
    "tags": []
   },
   "outputs": [
    {
     "name": "stdout",
     "output_type": "stream",
     "text": [
      "(6002,)\n",
      "(6002,)\n"
     ]
    }
   ],
   "source": [
    "print(y_train.shape)\n",
    "print(X_train.shape)"
   ]
  },
  {
   "cell_type": "code",
   "execution_count": 17,
   "id": "af60a50f",
   "metadata": {
    "execution": {
     "iopub.execute_input": "2025-07-13T06:20:26.598129Z",
     "iopub.status.busy": "2025-07-13T06:20:26.597591Z",
     "iopub.status.idle": "2025-07-13T06:20:26.713268Z",
     "shell.execute_reply": "2025-07-13T06:20:26.712707Z"
    },
    "papermill": {
     "duration": 0.12323,
     "end_time": "2025-07-13T06:20:26.714594",
     "exception": false,
     "start_time": "2025-07-13T06:20:26.591364",
     "status": "completed"
    },
    "tags": []
   },
   "outputs": [],
   "source": [
    "vocab_size = 100000\n",
    "trunc_type='post'\n",
    "oov_tok = \"<OOV>\"\n",
    "\n",
    "# Tokenization\n",
    "tokenizer = Tokenizer(num_words = vocab_size, oov_token=oov_tok)\n",
    "tokenizer.fit_on_texts(X_train)"
   ]
  },
  {
   "cell_type": "code",
   "execution_count": 18,
   "id": "5425f3e2",
   "metadata": {
    "execution": {
     "iopub.execute_input": "2025-07-13T06:20:26.727298Z",
     "iopub.status.busy": "2025-07-13T06:20:26.727074Z",
     "iopub.status.idle": "2025-07-13T06:20:26.732587Z",
     "shell.execute_reply": "2025-07-13T06:20:26.732037Z"
    },
    "papermill": {
     "duration": 0.013048,
     "end_time": "2025-07-13T06:20:26.733605",
     "exception": false,
     "start_time": "2025-07-13T06:20:26.720557",
     "status": "completed"
    },
    "tags": []
   },
   "outputs": [
    {
     "name": "stdout",
     "output_type": "stream",
     "text": [
      "Our Deeds are the Reason of this #earthquake May ALLAH Forgive us all\n"
     ]
    },
    {
     "data": {
      "text/plain": [
       "[[114, 5542, 26, 5, 857, 9, 22, 298, 141, 1792, 5578, 88, 41]]"
      ]
     },
     "execution_count": 18,
     "metadata": {},
     "output_type": "execute_result"
    }
   ],
   "source": [
    "print(X_train[0])\n",
    "tokenizer.texts_to_sequences([X_train[0]])"
   ]
  },
  {
   "cell_type": "markdown",
   "id": "7a706827",
   "metadata": {
    "papermill": {
     "duration": 0.00548,
     "end_time": "2025-07-13T06:20:26.745029",
     "exception": false,
     "start_time": "2025-07-13T06:20:26.739549",
     "status": "completed"
    },
    "tags": []
   },
   "source": [
    "Pad all sequences to have the same shape"
   ]
  },
  {
   "cell_type": "code",
   "execution_count": 19,
   "id": "173a7ee3",
   "metadata": {
    "execution": {
     "iopub.execute_input": "2025-07-13T06:20:26.757596Z",
     "iopub.status.busy": "2025-07-13T06:20:26.757043Z",
     "iopub.status.idle": "2025-07-13T06:20:26.760173Z",
     "shell.execute_reply": "2025-07-13T06:20:26.759626Z"
    },
    "papermill": {
     "duration": 0.010449,
     "end_time": "2025-07-13T06:20:26.761226",
     "exception": false,
     "start_time": "2025-07-13T06:20:26.750777",
     "status": "completed"
    },
    "tags": []
   },
   "outputs": [],
   "source": [
    "word_index = tokenizer.word_index"
   ]
  },
  {
   "cell_type": "code",
   "execution_count": 20,
   "id": "530a41d1",
   "metadata": {
    "execution": {
     "iopub.execute_input": "2025-07-13T06:20:26.823858Z",
     "iopub.status.busy": "2025-07-13T06:20:26.823265Z",
     "iopub.status.idle": "2025-07-13T06:20:26.998488Z",
     "shell.execute_reply": "2025-07-13T06:20:26.997867Z"
    },
    "papermill": {
     "duration": 0.183445,
     "end_time": "2025-07-13T06:20:26.999926",
     "exception": false,
     "start_time": "2025-07-13T06:20:26.816481",
     "status": "completed"
    },
    "tags": []
   },
   "outputs": [],
   "source": [
    "max_length = 50\n",
    "\n",
    "sequences = tokenizer.texts_to_sequences(X_train)\n",
    "testing_sequences = tokenizer.texts_to_sequences(X_test)\n",
    "\n",
    "# Padding\n",
    "train_padded = pad_sequences(sequences, maxlen=max_length, truncating=\"post\", padding = \"post\")\n",
    "testing_padded = pad_sequences(testing_sequences, maxlen=max_length, truncating=\"post\", padding = \"post\")"
   ]
  },
  {
   "cell_type": "code",
   "execution_count": 21,
   "id": "58d6810c",
   "metadata": {
    "execution": {
     "iopub.execute_input": "2025-07-13T06:20:27.014162Z",
     "iopub.status.busy": "2025-07-13T06:20:27.013918Z",
     "iopub.status.idle": "2025-07-13T06:20:27.067647Z",
     "shell.execute_reply": "2025-07-13T06:20:27.066737Z"
    },
    "papermill": {
     "duration": 0.062563,
     "end_time": "2025-07-13T06:20:27.069358",
     "exception": false,
     "start_time": "2025-07-13T06:20:27.006795",
     "status": "completed"
    },
    "tags": []
   },
   "outputs": [],
   "source": [
    "# Apply tokenizer on testdata\n",
    "sequences_test_data = tokenizer.texts_to_sequences(test_data.text)\n",
    "test_data_padded = pad_sequences(sequences_test_data, maxlen=max_length, truncating=\"post\", padding = \"post\")"
   ]
  },
  {
   "cell_type": "code",
   "execution_count": 22,
   "id": "a3f9e0e0",
   "metadata": {
    "execution": {
     "iopub.execute_input": "2025-07-13T06:20:27.088485Z",
     "iopub.status.busy": "2025-07-13T06:20:27.087995Z",
     "iopub.status.idle": "2025-07-13T06:20:27.093563Z",
     "shell.execute_reply": "2025-07-13T06:20:27.092302Z"
    },
    "papermill": {
     "duration": 0.016744,
     "end_time": "2025-07-13T06:20:27.095816",
     "exception": false,
     "start_time": "2025-07-13T06:20:27.079072",
     "status": "completed"
    },
    "tags": []
   },
   "outputs": [
    {
     "name": "stdout",
     "output_type": "stream",
     "text": [
      "[5932 5933  162    6  807 1475    5 1358   20   71   23 1155    6  116\n",
      "    0    0    0    0    0    0    0    0    0    0    0    0    0    0\n",
      "    0    0    0    0    0    0    0    0    0    0    0    0    0    0\n",
      "    0    0    0    0    0    0    0    0]\n",
      "(6002, 50)\n"
     ]
    }
   ],
   "source": [
    "print(train_padded[0])\n",
    "print(train_padded.shape)"
   ]
  },
  {
   "cell_type": "code",
   "execution_count": 23,
   "id": "ed103b2b",
   "metadata": {
    "execution": {
     "iopub.execute_input": "2025-07-13T06:20:27.120887Z",
     "iopub.status.busy": "2025-07-13T06:20:27.120479Z",
     "iopub.status.idle": "2025-07-13T06:20:28.278418Z",
     "shell.execute_reply": "2025-07-13T06:20:28.277730Z"
    },
    "papermill": {
     "duration": 1.171794,
     "end_time": "2025-07-13T06:20:28.280195",
     "exception": false,
     "start_time": "2025-07-13T06:20:27.108401",
     "status": "completed"
    },
    "tags": []
   },
   "outputs": [
    {
     "name": "stderr",
     "output_type": "stream",
     "text": [
      "I0000 00:00:1752387628.199530      19 gpu_device.cc:2022] Created device /job:localhost/replica:0/task:0/device:GPU:0 with 15513 MB memory:  -> device: 0, name: Tesla P100-PCIE-16GB, pci bus id: 0000:00:04.0, compute capability: 6.0\n"
     ]
    }
   ],
   "source": [
    "from tensorflow.keras.models import Sequential\n",
    "from tensorflow.keras.layers import BatchNormalization, GlobalMaxPool1D, Dense, Activation, Dropout, GRU, Embedding, Bidirectional, LSTM\n",
    "\n",
    "model = Sequential()\n",
    "model.add(Embedding(input_dim = vocab_size,output_dim = 64)) #, input_length = max_length\n",
    "model.add(Bidirectional(LSTM(64, return_sequences=True, recurrent_dropout=0.2)))\n",
    "model.add(Bidirectional(LSTM(32, return_sequences=True, recurrent_dropout=0.2)))\n",
    "model.add(Bidirectional(LSTM(16, return_sequences=False, recurrent_dropout=0.2)))\n",
    "#model.add(GlobalMaxPool1D())\n",
    "#model.add(BatchNormalization())\n",
    "#model.add(Dropout(0.3))\n",
    "model.add(Dense(64, activation = \"relu\"))\n",
    "model.add(Dropout(0.3))\n",
    "model.add(Dense(1, activation='sigmoid'))\n"
   ]
  },
  {
   "cell_type": "code",
   "execution_count": 24,
   "id": "ab91b487",
   "metadata": {
    "execution": {
     "iopub.execute_input": "2025-07-13T06:20:28.294112Z",
     "iopub.status.busy": "2025-07-13T06:20:28.293456Z",
     "iopub.status.idle": "2025-07-13T06:20:28.313516Z",
     "shell.execute_reply": "2025-07-13T06:20:28.312954Z"
    },
    "papermill": {
     "duration": 0.027988,
     "end_time": "2025-07-13T06:20:28.314553",
     "exception": false,
     "start_time": "2025-07-13T06:20:28.286565",
     "status": "completed"
    },
    "tags": []
   },
   "outputs": [],
   "source": [
    "import keras\n",
    "opt = keras.optimizers.Adam(learning_rate=0.0001)\n",
    "\n",
    "model.compile(\n",
    "  optimizer=opt,\n",
    "  loss='binary_crossentropy',\n",
    "  metrics=['AUC'], # AUC ?\n",
    ")"
   ]
  },
  {
   "cell_type": "code",
   "execution_count": 25,
   "id": "a0d1a8cd",
   "metadata": {
    "execution": {
     "iopub.execute_input": "2025-07-13T06:20:28.327046Z",
     "iopub.status.busy": "2025-07-13T06:20:28.326837Z",
     "iopub.status.idle": "2025-07-13T06:46:39.658759Z",
     "shell.execute_reply": "2025-07-13T06:46:39.658090Z"
    },
    "papermill": {
     "duration": 1571.339663,
     "end_time": "2025-07-13T06:46:39.660133",
     "exception": false,
     "start_time": "2025-07-13T06:20:28.320470",
     "status": "completed"
    },
    "tags": []
   },
   "outputs": [
    {
     "name": "stdout",
     "output_type": "stream",
     "text": [
      "Epoch 1/15\n",
      "\u001b[1m188/188\u001b[0m \u001b[32m━━━━━━━━━━━━━━━━━━━━\u001b[0m\u001b[37m\u001b[0m \u001b[1m133s\u001b[0m 566ms/step - AUC: 0.5263 - loss: 0.6841 - val_AUC: 0.6735 - val_loss: 0.6677\n",
      "Epoch 2/15\n",
      "\u001b[1m188/188\u001b[0m \u001b[32m━━━━━━━━━━━━━━━━━━━━\u001b[0m\u001b[37m\u001b[0m \u001b[1m103s\u001b[0m 549ms/step - AUC: 0.6754 - loss: 0.6498 - val_AUC: 0.8166 - val_loss: 0.5482\n",
      "Epoch 3/15\n",
      "\u001b[1m188/188\u001b[0m \u001b[32m━━━━━━━━━━━━━━━━━━━━\u001b[0m\u001b[37m\u001b[0m \u001b[1m104s\u001b[0m 554ms/step - AUC: 0.8603 - loss: 0.4634 - val_AUC: 0.8536 - val_loss: 0.4777\n",
      "Epoch 4/15\n",
      "\u001b[1m188/188\u001b[0m \u001b[32m━━━━━━━━━━━━━━━━━━━━\u001b[0m\u001b[37m\u001b[0m \u001b[1m103s\u001b[0m 549ms/step - AUC: 0.9293 - loss: 0.3112 - val_AUC: 0.8592 - val_loss: 0.4880\n",
      "Epoch 5/15\n",
      "\u001b[1m188/188\u001b[0m \u001b[32m━━━━━━━━━━━━━━━━━━━━\u001b[0m\u001b[37m\u001b[0m \u001b[1m102s\u001b[0m 541ms/step - AUC: 0.9600 - loss: 0.2271 - val_AUC: 0.8544 - val_loss: 0.5332\n",
      "Epoch 6/15\n",
      "\u001b[1m188/188\u001b[0m \u001b[32m━━━━━━━━━━━━━━━━━━━━\u001b[0m\u001b[37m\u001b[0m \u001b[1m103s\u001b[0m 548ms/step - AUC: 0.9763 - loss: 0.1663 - val_AUC: 0.8503 - val_loss: 0.6291\n",
      "Epoch 7/15\n",
      "\u001b[1m188/188\u001b[0m \u001b[32m━━━━━━━━━━━━━━━━━━━━\u001b[0m\u001b[37m\u001b[0m \u001b[1m104s\u001b[0m 554ms/step - AUC: 0.9805 - loss: 0.1440 - val_AUC: 0.8465 - val_loss: 0.6737\n",
      "Epoch 8/15\n",
      "\u001b[1m188/188\u001b[0m \u001b[32m━━━━━━━━━━━━━━━━━━━━\u001b[0m\u001b[37m\u001b[0m \u001b[1m102s\u001b[0m 542ms/step - AUC: 0.9879 - loss: 0.1002 - val_AUC: 0.8438 - val_loss: 0.7112\n",
      "Epoch 9/15\n",
      "\u001b[1m188/188\u001b[0m \u001b[32m━━━━━━━━━━━━━━━━━━━━\u001b[0m\u001b[37m\u001b[0m \u001b[1m102s\u001b[0m 545ms/step - AUC: 0.9909 - loss: 0.0772 - val_AUC: 0.8425 - val_loss: 0.7212\n",
      "Epoch 10/15\n",
      "\u001b[1m188/188\u001b[0m \u001b[32m━━━━━━━━━━━━━━━━━━━━\u001b[0m\u001b[37m\u001b[0m \u001b[1m104s\u001b[0m 551ms/step - AUC: 0.9958 - loss: 0.0594 - val_AUC: 0.8318 - val_loss: 0.8137\n",
      "Epoch 11/15\n",
      "\u001b[1m188/188\u001b[0m \u001b[32m━━━━━━━━━━━━━━━━━━━━\u001b[0m\u001b[37m\u001b[0m \u001b[1m103s\u001b[0m 550ms/step - AUC: 0.9954 - loss: 0.0482 - val_AUC: 0.8326 - val_loss: 0.8684\n",
      "Epoch 12/15\n",
      "\u001b[1m188/188\u001b[0m \u001b[32m━━━━━━━━━━━━━━━━━━━━\u001b[0m\u001b[37m\u001b[0m \u001b[1m102s\u001b[0m 541ms/step - AUC: 0.9938 - loss: 0.0539 - val_AUC: 0.8278 - val_loss: 0.8570\n",
      "Epoch 13/15\n",
      "\u001b[1m188/188\u001b[0m \u001b[32m━━━━━━━━━━━━━━━━━━━━\u001b[0m\u001b[37m\u001b[0m \u001b[1m102s\u001b[0m 543ms/step - AUC: 0.9972 - loss: 0.0356 - val_AUC: 0.8126 - val_loss: 1.0336\n",
      "Epoch 14/15\n",
      "\u001b[1m188/188\u001b[0m \u001b[32m━━━━━━━━━━━━━━━━━━━━\u001b[0m\u001b[37m\u001b[0m \u001b[1m102s\u001b[0m 543ms/step - AUC: 0.9979 - loss: 0.0268 - val_AUC: 0.8176 - val_loss: 0.9793\n",
      "Epoch 15/15\n",
      "\u001b[1m188/188\u001b[0m \u001b[32m━━━━━━━━━━━━━━━━━━━━\u001b[0m\u001b[37m\u001b[0m \u001b[1m101s\u001b[0m 540ms/step - AUC: 0.9968 - loss: 0.0332 - val_AUC: 0.8223 - val_loss: 0.9325\n"
     ]
    }
   ],
   "source": [
    "history = model.fit(\n",
    "  train_padded,\n",
    "  y_train,\n",
    "  epochs=15,\n",
    "  verbose = 1,\n",
    "  shuffle = True,\n",
    "    validation_data=(testing_padded, y_test))\n",
    "   \n"
   ]
  },
  {
   "cell_type": "code",
   "execution_count": 26,
   "id": "42361a21",
   "metadata": {
    "execution": {
     "iopub.execute_input": "2025-07-13T06:46:39.899214Z",
     "iopub.status.busy": "2025-07-13T06:46:39.898644Z",
     "iopub.status.idle": "2025-07-13T06:46:40.202319Z",
     "shell.execute_reply": "2025-07-13T06:46:40.201729Z"
    },
    "papermill": {
     "duration": 0.422754,
     "end_time": "2025-07-13T06:46:40.203514",
     "exception": false,
     "start_time": "2025-07-13T06:46:39.780760",
     "status": "completed"
    },
    "tags": []
   },
   "outputs": [
    {
     "data": {
      "image/png": "[encoded data removed]",
      "text/plain": [
       "<Figure size 640x480 with 1 Axes>"
      ]
     },
     "metadata": {},
     "output_type": "display_data"
    }
   ],
   "source": [
    "import matplotlib.pyplot as plt\n",
    "\n",
    "plt.plot(history.history['loss'])\n",
    "plt.plot(history.history['val_loss'])\n",
    "plt.title('model loss')\n",
    "plt.ylabel('loss')\n",
    "plt.xlabel('epoch')\n",
    "plt.legend(['train', 'val'], loc='upper left')\n",
    "plt.show()"
   ]
  },
  {
   "cell_type": "code",
   "execution_count": 27,
   "id": "ba856bbd",
   "metadata": {
    "execution": {
     "iopub.execute_input": "2025-07-13T06:46:40.440764Z",
     "iopub.status.busy": "2025-07-13T06:46:40.440457Z",
     "iopub.status.idle": "2025-07-13T06:46:40.588936Z",
     "shell.execute_reply": "2025-07-13T06:46:40.588166Z"
    },
    "papermill": {
     "duration": 0.26768,
     "end_time": "2025-07-13T06:46:40.590024",
     "exception": false,
     "start_time": "2025-07-13T06:46:40.322344",
     "status": "completed"
    },
    "tags": []
   },
   "outputs": [
    {
     "data": {
      "image/png": "[encoded data removed]",
      "text/plain": [
       "<Figure size 640x480 with 1 Axes>"
      ]
     },
     "metadata": {},
     "output_type": "display_data"
    }
   ],
   "source": [
    "plt.plot(history.history['AUC'])\n",
    "plt.plot(history.history['val_AUC'])\n",
    "plt.title('model AUC')\n",
    "plt.ylabel('AUC')\n",
    "plt.xlabel('epoch')\n",
    "plt.legend(['train', 'val'], loc='upper left')\n",
    "plt.show()"
   ]
  },
  {
   "cell_type": "code",
   "execution_count": 28,
   "id": "231e3961",
   "metadata": {
    "execution": {
     "iopub.execute_input": "2025-07-13T06:46:40.831148Z",
     "iopub.status.busy": "2025-07-13T06:46:40.830875Z",
     "iopub.status.idle": "2025-07-13T06:46:40.848868Z",
     "shell.execute_reply": "2025-07-13T06:46:40.848209Z"
    },
    "papermill": {
     "duration": 0.138831,
     "end_time": "2025-07-13T06:46:40.849980",
     "exception": false,
     "start_time": "2025-07-13T06:46:40.711149",
     "status": "completed"
    },
    "tags": []
   },
   "outputs": [
    {
     "name": "stdout",
     "output_type": "stream",
     "text": [
      "   id  target\n",
      "0   0       0\n",
      "1   2       0\n",
      "2   3       0\n",
      "3   9       0\n",
      "4  11       0\n"
     ]
    }
   ],
   "source": [
    "# check what teh submission file should look like\n",
    "sample_sub = pd.read_csv(\"/kaggle/input/nlp-getting-started/sample_submission.csv\")\n",
    "print(sample_sub.head())"
   ]
  },
  {
   "cell_type": "code",
   "execution_count": 29,
   "id": "762c6543",
   "metadata": {
    "execution": {
     "iopub.execute_input": "2025-07-13T06:46:41.091107Z",
     "iopub.status.busy": "2025-07-13T06:46:41.090393Z",
     "iopub.status.idle": "2025-07-13T06:46:55.657146Z",
     "shell.execute_reply": "2025-07-13T06:46:55.656550Z"
    },
    "papermill": {
     "duration": 14.687383,
     "end_time": "2025-07-13T06:46:55.658383",
     "exception": false,
     "start_time": "2025-07-13T06:46:40.971000",
     "status": "completed"
    },
    "tags": []
   },
   "outputs": [
    {
     "name": "stdout",
     "output_type": "stream",
     "text": [
      "\u001b[1m102/102\u001b[0m \u001b[32m━━━━━━━━━━━━━━━━━━━━\u001b[0m\u001b[37m\u001b[0m \u001b[1m14s\u001b[0m 121ms/step\n"
     ]
    }
   ],
   "source": [
    "test_data[\"target\"] = model.predict(test_data_padded)\n",
    "# recode the data to binary format\n",
    "test_data[\"target\"] = np.where(test_data[\"target\"] > 0.5, 1,0)\n",
    "# drop the other columns\n",
    "submission = test_data.drop(columns = [\"keyword\", \"location\", \"text\"])"
   ]
  },
  {
   "cell_type": "code",
   "execution_count": 30,
   "id": "59693445",
   "metadata": {
    "execution": {
     "iopub.execute_input": "2025-07-13T06:46:55.905741Z",
     "iopub.status.busy": "2025-07-13T06:46:55.905448Z",
     "iopub.status.idle": "2025-07-13T06:46:55.910653Z",
     "shell.execute_reply": "2025-07-13T06:46:55.910046Z"
    },
    "papermill": {
     "duration": 0.12901,
     "end_time": "2025-07-13T06:46:55.911803",
     "exception": false,
     "start_time": "2025-07-13T06:46:55.782793",
     "status": "completed"
    },
    "tags": []
   },
   "outputs": [
    {
     "name": "stdout",
     "output_type": "stream",
     "text": [
      "   id  target\n",
      "0   0       1\n",
      "1   2       1\n",
      "2   3       1\n",
      "3   9       1\n",
      "4  11       1\n"
     ]
    }
   ],
   "source": [
    "print(submission.head())"
   ]
  },
  {
   "cell_type": "code",
   "execution_count": 31,
   "id": "8ff5dec5",
   "metadata": {
    "execution": {
     "iopub.execute_input": "2025-07-13T06:46:56.209042Z",
     "iopub.status.busy": "2025-07-13T06:46:56.208759Z",
     "iopub.status.idle": "2025-07-13T06:46:56.220636Z",
     "shell.execute_reply": "2025-07-13T06:46:56.220126Z"
    },
    "papermill": {
     "duration": 0.13705,
     "end_time": "2025-07-13T06:46:56.221831",
     "exception": false,
     "start_time": "2025-07-13T06:46:56.084781",
     "status": "completed"
    },
    "tags": []
   },
   "outputs": [],
   "source": [
    "submission.to_csv(\"submission.csv\", index = False, header = True) "
   ]
  },
  {
   "cell_type": "markdown",
   "id": "ae4fb08d",
   "metadata": {
    "execution": {
     "iopub.execute_input": "2025-07-12T19:34:55.708942Z",
     "iopub.status.busy": "2025-07-12T19:34:55.708717Z",
     "iopub.status.idle": "2025-07-12T19:35:03.895879Z",
     "shell.execute_reply": "2025-07-12T19:35:03.895276Z",
     "shell.execute_reply.started": "2025-07-12T19:34:55.708914Z"
    },
    "papermill": {
     "duration": 0.120358,
     "end_time": "2025-07-13T06:46:56.463907",
     "exception": false,
     "start_time": "2025-07-13T06:46:56.343549",
     "status": "completed"
    },
    "tags": []
   },
   "source": [
    "glove_dir = '/kaggle/input/glove6b100dtxt'\n",
    "embeddings_index = {}\n",
    "f = open(os.path.join(glove_dir, 'glove.6B.100d.txt'))\n",
    "\n",
    "for line in f:\n",
    "    values = line.split()\n",
    "    word = values[0]\n",
    "    coefs = np.asarray(values[1:], dtype='float32')\n",
    "    embeddings_index[word] = coefs\n",
    "f.close()\n",
    "print('Found %s word vectors.' % len(embeddings_index))"
   ]
  },
  {
   "cell_type": "markdown",
   "id": "2420ec79",
   "metadata": {
    "execution": {
     "iopub.execute_input": "2025-07-12T19:38:12.161965Z",
     "iopub.status.busy": "2025-07-12T19:38:12.161634Z",
     "iopub.status.idle": "2025-07-12T19:38:12.193191Z",
     "shell.execute_reply": "2025-07-12T19:38:12.192622Z",
     "shell.execute_reply.started": "2025-07-12T19:38:12.161940Z"
    },
    "papermill": {
     "duration": 0.121209,
     "end_time": "2025-07-13T06:46:56.710429",
     "exception": false,
     "start_time": "2025-07-13T06:46:56.589220",
     "status": "completed"
    },
    "tags": []
   },
   "source": [
    "embedding_dim = 100\n",
    "embedding_matrix = np.zeros((len(word_index) + 1, embedding_dim))\n",
    "for word, i in word_index.items():\n",
    "    if i < vocab_size:\n",
    "        embedding_vector = embeddings_index.get(word)\n",
    "        if embedding_vector is not None:\n",
    "            embedding_matrix[i] = embedding_vector"
   ]
  },
  {
   "cell_type": "markdown",
   "id": "a189a6a1",
   "metadata": {
    "execution": {
     "iopub.execute_input": "2025-07-12T19:50:31.291788Z",
     "iopub.status.busy": "2025-07-12T19:50:31.291516Z",
     "iopub.status.idle": "2025-07-12T19:50:31.334410Z",
     "shell.execute_reply": "2025-07-12T19:50:31.333847Z",
     "shell.execute_reply.started": "2025-07-12T19:50:31.291768Z"
    },
    "papermill": {
     "duration": 0.119856,
     "end_time": "2025-07-13T06:46:56.950115",
     "exception": false,
     "start_time": "2025-07-13T06:46:56.830259",
     "status": "completed"
    },
    "tags": []
   },
   "source": [
    "model = Sequential()\n",
    "model.add(Embedding(len(word_index) + 1, 100, weights=[embedding_matrix],\n",
    "                    trainable=False, input_length = max_length))\n",
    "model.add(Bidirectional(LSTM(32, return_sequences=True, recurrent_dropout=0.3)))\n",
    "model.add(GlobalMaxPool1D())\n",
    "model.add(BatchNormalization())\n",
    "model.add(Dropout(0.3))\n",
    "model.add(Dense(1, activation='sigmoid'))"
   ]
  },
  {
   "cell_type": "markdown",
   "id": "5bd45ee9",
   "metadata": {
    "execution": {
     "iopub.execute_input": "2025-07-12T19:50:31.335673Z",
     "iopub.status.busy": "2025-07-12T19:50:31.335467Z",
     "iopub.status.idle": "2025-07-12T19:50:31.341477Z",
     "shell.execute_reply": "2025-07-12T19:50:31.340938Z",
     "shell.execute_reply.started": "2025-07-12T19:50:31.335658Z"
    },
    "papermill": {
     "duration": 0.139118,
     "end_time": "2025-07-13T06:46:57.237605",
     "exception": false,
     "start_time": "2025-07-13T06:46:57.098487",
     "status": "completed"
    },
    "tags": []
   },
   "source": [
    "model.compile(\n",
    "  optimizer=opt,\n",
    "  loss='binary_crossentropy',\n",
    "  metrics=['AUC'], # AUC ?\n",
    ")"
   ]
  },
  {
   "cell_type": "markdown",
   "id": "59a99ada",
   "metadata": {
    "execution": {
     "iopub.execute_input": "2025-07-12T19:54:11.893242Z",
     "iopub.status.busy": "2025-07-12T19:54:11.892727Z",
     "iopub.status.idle": "2025-07-12T19:54:11.896969Z",
     "shell.execute_reply": "2025-07-12T19:54:11.896221Z",
     "shell.execute_reply.started": "2025-07-12T19:54:11.893217Z"
    },
    "papermill": {
     "duration": 0.172201,
     "end_time": "2025-07-13T06:46:57.532496",
     "exception": false,
     "start_time": "2025-07-13T06:46:57.360295",
     "status": "completed"
    },
    "tags": []
   },
   "source": [
    "tf.compat.v1.enable_eager_execution()"
   ]
  },
  {
   "cell_type": "markdown",
   "id": "a5382a30",
   "metadata": {
    "execution": {
     "iopub.execute_input": "2025-07-12T19:54:16.154875Z",
     "iopub.status.busy": "2025-07-12T19:54:16.154130Z",
     "iopub.status.idle": "2025-07-12T19:54:16.238454Z",
     "shell.execute_reply": "2025-07-12T19:54:16.237520Z",
     "shell.execute_reply.started": "2025-07-12T19:54:16.154837Z"
    },
    "papermill": {
     "duration": 0.11991,
     "end_time": "2025-07-13T06:46:57.775754",
     "exception": false,
     "start_time": "2025-07-13T06:46:57.655844",
     "status": "completed"
    },
    "tags": []
   },
   "source": [
    "history = model.fit(\n",
    "  train_padded,\n",
    "  y_train,\n",
    "  epochs=15,\n",
    "  verbose = 1,\n",
    "  shuffle = True,\n",
    "    validation_data=(testing_padded, y_test))\n"
   ]
  }
 ],
 "metadata": {
  "kaggle": {
   "accelerator": "gpu",
   "dataSources": [
    {
     "databundleVersionId": 869809,
     "sourceId": 17777,
     "sourceType": "competition"
    },
    {
     "datasetId": 715814,
     "sourceId": 1246668,
     "sourceType": "datasetVersion"
    }
   ],
   "dockerImageVersionId": 31089,
   "isGpuEnabled": true,
   "isInternetEnabled": true,
   "language": "python",
   "sourceType": "notebook"
  },
  "kernelspec": {
   "display_name": "Python 3",
   "language": "python",
   "name": "python3"
  },
  "language_info": {
   "codemirror_mode": {
    "name": "ipython",
    "version": 3
   },
   "file_extension": ".py",
   "mimetype": "text/x-python",
   "name": "python",
   "nbconvert_exporter": "python",
   "pygments_lexer": "ipython3",
   "version": "3.11.13"
  },
  "papermill": {
   "default_parameters": {},
   "duration": 1618.361814,
   "end_time": "2025-07-13T06:47:01.184961",
   "environment_variables": {},
   "exception": null,
   "input_path": "__notebook__.ipynb",
   "output_path": "__notebook__.ipynb",
   "parameters": {},
   "start_time": "2025-07-13T06:20:02.823147",
   "version": "2.6.0"
  }
 },
 "nbformat": 4,
 "nbformat_minor": 5
}
